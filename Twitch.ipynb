{
 "cells": [
  {
   "cell_type": "markdown",
   "metadata": {},
   "source": [
    "# Twitch Recommendation system\n",
    "## School Projet about AI and E-commerce at Télécom Paris\n",
    "### Link to the course git hub https://github.com/thibaultallart/IA316-2020\n",
    "\n",
    "## Here we want to make a system of recommendation to give to viewers of Twitch a list of stream that would maximize their time on the stream platform (to maximize the number of ad watched)"
   ]
  },
  {
   "cell_type": "code",
   "execution_count": 1,
   "metadata": {},
   "outputs": [],
   "source": [
    "# Viewers are characterised by some features like age, country, language, content watched, and others\n",
    "# Streamers are characterised by some features like country, language, content broadcast and others\n",
    "\n"
   ]
  },
  {
   "cell_type": "code",
   "execution_count": null,
   "metadata": {},
   "outputs": [],
   "source": []
  }
 ],
 "metadata": {
  "kernelspec": {
   "display_name": "Python 3",
   "language": "python",
   "name": "python3"
  },
  "language_info": {
   "codemirror_mode": {
    "name": "ipython",
    "version": 3
   },
   "file_extension": ".py",
   "mimetype": "text/x-python",
   "name": "python",
   "nbconvert_exporter": "python",
   "pygments_lexer": "ipython3",
   "version": "3.7.4"
  }
 },
 "nbformat": 4,
 "nbformat_minor": 2
}
