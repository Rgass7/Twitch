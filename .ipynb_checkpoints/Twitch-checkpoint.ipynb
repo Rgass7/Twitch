{
 "cells": [
  {
   "cell_type": "markdown",
   "metadata": {},
   "source": [
    "# Twitch Recommendation system\n",
    "## School Projet about AI and E-commerce at Télécom Paris\n",
    "### Link to the course git hub https://github.com/thibaultallart/IA316-2020\n",
    "\n",
    "## Here we want to make a system of recommendation to give to viewers of Twitch a list of stream that would maximize their time on the stream platform (to maximize the number of ad watched)"
   ]
  },
  {
   "cell_type": "code",
   "execution_count": 1,
   "metadata": {},
   "outputs": [],
   "source": [
    "# Viewers are characterised by some features like age, country, language, content watched, and others\n",
    "# Streamers are characterised by some features like country, language, content broadcast and others\n",
    "class User:\n",
    "    def __init__(self, id_, language, list_contents_watched_with_time, list_stream_watched_with_time):\n",
    "        self.id = id_\n",
    "        self.language = language\n",
    "        self.s_w_t = list_stream_watched_with_time\n",
    "        self.c_w_t = list_contents_watched_with_time\n",
    "        self.total_time_spend = sum(list_stream_watched_with_time[:,1])\n",
    "        \n",
    "    def update_user(self, streamer_id, content, time):\n",
    "        if streamer_id in self.streamer_watched:\n",
    "            idx = self.streamer_watched[:,0].index(streamer_id)\n",
    "            self.streamer_watched[idx,1] += time\n",
    "        else:\n",
    "            self.streamer_watched.append(streamer_id, time)\n",
    "        if content in self.content_watched:\n",
    "            idx = self.content_watched.index(content)\n",
    "            self.content_watched[idx,1]+=time\n",
    "        else:\n",
    "            self.content_watched.append(content, time)\n",
    "            \n",
    "class Streamer:\n",
    "    def __init__(self, content, online, language, n_viewers):\n",
    "        self.online=online #if he's online\n",
    "        self.content=content #the game or the thing he's doing\n",
    "        self.language=language #the language he speaks\n",
    "        self.n_viewers = n_viewers #the number of viewers he has\n",
    "        \n",
    "    def connection(self):\n",
    "        self.online=True\n",
    "    def deconnection(self):\n",
    "        self.online=False\n",
    "    def content_update(self, content):\n",
    "        self.content=content\n",
    "    def n_viewers_update(self, new_n_viewers):\n",
    "        self.n_viewers = new_n_viewers\n",
    "    "
   ]
  },
  {
   "cell_type": "code",
   "execution_count": 2,
   "metadata": {},
   "outputs": [],
   "source": [
    "class Twitch_Environement:\n",
    "\n",
    "    def __init__(self, list_users = [], list_streamers = []):\n",
    "        self.users = {user.id: user for user in list_users}\n",
    "        self.nb_users = len(list_users)\n",
    "        self.user_attributes = np.array([user.attributes for user in users])\n",
    "        self.streamers = list_streamers\n",
    "        self.streamers_available = {streamers.online : streamers for streamers in self.streamers}\n",
    "        self.contents = [content for stream in list_streamers for content in stream.content]\n",
    "        self.streamers_id = {streamers.id: streamers for streamers in self.streamers}\n",
    "        \n",
    "        self.state = {\"current_user\": 0}\n",
    "\n",
    "    def add_user(self, user):\n",
    "        self.users[user.user_id] = user\n",
    "        self.nb_users += 1\n",
    "        self.user_attributes = np.vstack([self.user_attributes, user.attributes])\n",
    "\n",
    "    def add_streamers(self, streamer):\n",
    "        self.streamers.append(streamer)\n",
    "        self.contents.append(streamers.content)\n",
    "        self.streamers_available.append(streamers.online)\n",
    "        self.streamers_id.append(streamer.id)\n",
    "        \n",
    "\n",
    "    def next_user(self):\n",
    "        return self.rng.choice(list(self.users.values()))\n",
    "\n",
    "    def update(self, user, streamer, time_spend):\n",
    "        user.attributes[0].append(streamer.content, time_spend)\n",
    "        user.attributes[1].append(stremer.id, time_spend)"
   ]
  },
  {
   "cell_type": "code",
   "execution_count": null,
   "metadata": {},
   "outputs": [],
   "source": []
  }
 ],
 "metadata": {
  "kernelspec": {
   "display_name": "Python 3",
   "language": "python",
   "name": "python3"
  },
  "language_info": {
   "codemirror_mode": {
    "name": "ipython",
    "version": 3
   },
   "file_extension": ".py",
   "mimetype": "text/x-python",
   "name": "python",
   "nbconvert_exporter": "python",
   "pygments_lexer": "ipython3",
   "version": "3.7.4"
  }
 },
 "nbformat": 4,
 "nbformat_minor": 2
}
